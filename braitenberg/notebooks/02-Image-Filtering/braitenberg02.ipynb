{
 "cells": [
  {
   "cell_type": "markdown",
   "metadata": {},
   "source": [
    "<p style=\"text-align: center\">\n",
    "<img src=\"../../assets/images/dtlogo.png\" alt=\"Duckietown\" width=\"50%\">\n",
    "</p>"
   ]
  },
  {
   "cell_type": "code",
   "execution_count": 3,
   "id": "0bdb12f0",
   "metadata": {},
   "outputs": [
    {
     "name": "stderr",
     "output_type": "stream",
     "text": [
      "DEBUG:commons:version: 6.2.4 *\n",
      "DEBUG:typing:version: 6.2.3\n",
      "DEBUG:geometry:PyGeometry-z6 version 2.1.4 path /usr/local/lib/python3.8/dist-packages\n"
     ]
    },
    {
     "name": "stdout",
     "output_type": "stream",
     "text": [
      "%pylab is deprecated, use %matplotlib inline and import the required libraries.\n",
      "Populating the interactive namespace from numpy and matplotlib\n"
     ]
    }
   ],
   "source": [
    "%load_ext autoreload\n",
    "%autoreload 2\n",
    "\n",
    "import numpy as np\n",
    "import matplotlib.pyplot as plt\n",
    "import cv2\n",
    "\n",
    "import duckietown_code_utils as dcu\n",
    "\n",
    "%matplotlib inline\n",
    "%pylab inline"
   ]
  },
  {
   "cell_type": "markdown",
   "id": "3946303b",
   "metadata": {},
   "source": [
    "# Image filtering"
   ]
  },
  {
   "cell_type": "markdown",
   "id": "4064c443",
   "metadata": {},
   "source": [
    "Now we want to use our image manipulation techniques to do some basic filtering of the images. We'll learn how in this activity, and at the end, you will update the file `preprocessing.py` so that we can send images with highlighted duckies to our Braitenberg agent.\n",
    "\n",
    "In particular, let's say we want to avoid hitting duckies.\n",
    "\n",
    "We then need to highlight our duckies in the image."
   ]
  },
  {
   "cell_type": "markdown",
   "id": "9ff3a7e4",
   "metadata": {},
   "source": [
    "Let's start by loading a test image to work with as we did in the last activity."
   ]
  },
  {
   "cell_type": "code",
   "execution_count": null,
   "id": "b31d1828",
   "metadata": {},
   "outputs": [],
   "source": [
    "# experiment with different images!\n",
    "fn = '../../assets/samples/big-duck/big-duck-08.jpg'\n",
    "image = dcu.rgb_from_jpg_fn(fn)\n",
    "plt.imshow(image);"
   ]
  },
  {
   "cell_type": "markdown",
   "id": "ba47bf30",
   "metadata": {},
   "source": [
    "Let's now convert it to [HSV color space](https://en.wikipedia.org/wiki/HSL_and_HSV) so that it is easier to filter by colors.\n"
   ]
  },
  {
   "cell_type": "code",
   "execution_count": null,
   "id": "5b577658",
   "metadata": {},
   "outputs": [],
   "source": [
    "hsv = cv2.cvtColor(image, cv2.COLOR_RGB2HSV)"
   ]
  },
  {
   "cell_type": "markdown",
   "id": "2531e7ea",
   "metadata": {},
   "source": [
    "In OpenCV, the convention is the following:\n",
    "\n",
    "* Hue is usually measured in degrees, 0 to 360, as shown in [this scale](../../assets/HUE.png). However OpenCV uses a scale 0 to 179 - multiply by 2 to get the actual Hue in degree. (so to get a hue of 180 you have to tell 90 to OpenCV.\n",
    "* S and V are from 0 to 255."
   ]
  },
  {
   "cell_type": "markdown",
   "metadata": {
    "collapsed": false
   },
   "source": [
    "Now let's apply a simple image processing technique to highlight the region corresponding to a certain color.\n",
    "\n",
    "\n",
    "To do this, we start by defining a region in HSV space with the following lower/upper bounds:\n"
   ]
  },
  {
   "cell_type": "code",
   "execution_count": null,
   "id": "9acc9556",
   "metadata": {},
   "outputs": [],
   "source": [
    "lower_hsv = np.array([171, 140, 0])\n",
    "upper_hsv = np.array([179, 200, 255])"
   ]
  },
  {
   "cell_type": "markdown",
   "id": "501f790d",
   "metadata": {},
   "source": [
    "The two arrays have 3 components: H(ue), S(aturation), V(value).\n",
    "\n",
    "The first array are the lower bounds; the second array are the upper bounds.\n",
    "\n",
    "This means that the bounds we defined above will allow us to select the pixels that have:\n",
    "\n",
    "* Hue between OpenCV value 171 and 179, which are regular Hue values 342 to 358.\n",
    "* Saturation between 140 and 200.\n",
    "* Value between 0 and 255.\n",
    "\n"
   ]
  },
  {
   "cell_type": "markdown",
   "id": "d0e2bcc4",
   "metadata": {},
   "source": [
    "The *hue* is closest to what we intuitively call \"color\" and the one to use to do simple processing.\n",
    "\n",
    "This is how to use our upper and lower bound to do the filtering of the image and show the result:"
   ]
  },
  {
   "cell_type": "code",
   "execution_count": null,
   "id": "91079d03",
   "metadata": {},
   "outputs": [],
   "source": [
    "# Returns a matrix of 0 or 1 that satisfy the constraint (pixels within our defined bounds)\n",
    "mask = cv2.inRange(hsv, lower_hsv, upper_hsv)\n",
    "# print(mask)\n",
    "# Get a \"masked image\"\n",
    "masked = cv2.bitwise_and(image, image, mask=mask)\n",
    "plt.imshow(masked);"
   ]
  },
  {
   "cell_type": "markdown",
   "id": "24c93e6c",
   "metadata": {},
   "source": [
    "The bounds we just used highlight the beak. But we want the yellow of the duckie!"
   ]
  },
  {
   "cell_type": "markdown",
   "id": "88f03111",
   "metadata": {},
   "source": [
    "## Activity\n",
    "\n",
    "Your task now is to change those numbers above so that we highlight the duckies.\n",
    "\n",
    "\n",
    "We've created a tool for you to make this easier and suggest you use the following steps:\n",
    "\n",
    "1. Use [this online color picker](https://pinetools.com/image-color-picker) to click around on the sample images in the `/assets/samples` directory and get familiar with what color corresponds to which HSV values. (You can use any other tool, the link is just for reference.)  This will set you up to narrow in on the duckie yellow more quickly.\n",
    "\n",
    "2. Use the tool [shown in this video](https://vimeo.com/534995276) to find the values interactively. It runs the code in [HSV-bound.py](../../packages/examples/HSV-bound.py) to filter a test image based on the values you choose.\n",
    "\n",
    "    To get this interactive method running, open a terminal on your computer, **navigate to the exercise folder** (`duckietown-lx/braitenberg/`) and type:\n",
    "\n",
    "    `dts code build`\n",
    "\n",
    "    to build your updated exercise. Then use\n",
    "\n",
    "    `dts code workbench --sim -L HSV`\n",
    "\n",
    "    to run the HSV tool. In the terminal output you will see lines like the following (you may have to scroll up in the terminal)\n",
    "\n",
    "    ```\n",
    "    VNC running at http://localhost:8087/\n",
    "    --------------------------------------------------------\n",
    "    ```\n",
    "\n",
    "    Following the link will bring up the VNC desktop, where you can click on the HSV activity icon and run the tool.\n",
    "\n",
    "3. After you have a satisfactory result in the VNC tool, open the file [preprocessing.py](../../packages/solution/preprocessing.py), and change the values of `lower_hsv` and `upper_hsv` to the ones that you found to highlight the duckie.  This will be used by your Braitenberg agent in the next notebook."
   ]
  },
  {
   "cell_type": "markdown",
   "id": "cfe6b598",
   "metadata": {},
   "source": [
    "For reference, this is what your end result should look like."
   ]
  },
  {
   "cell_type": "code",
   "execution_count": 24,
   "id": "167e0834",
   "metadata": {},
   "outputs": [
    {
     "data": {
      "image/png": "[encoded data removed]",
      "text/plain": [
       "<Figure size 640x480 with 1 Axes>"
      ]
     },
     "metadata": {},
     "output_type": "display_data"
    }
   ],
   "source": [
    "# experiment with different images!\n",
    "fn = '../../assets/samples/big-duck/big-duck-01.jpg'\n",
    "image = dcu.rgb_from_jpg_fn(fn)\n",
    "hsv = cv2.cvtColor(image, cv2.COLOR_RGB2HSV)\n",
    "lower_hsv2 = np.array([0, 60, 0])\n",
    "upper_hsv2 = np.array([80, 255, 255])\n",
    "# Returns a matrix of 0 or 1 that satisfy the constraint (pixels within our defined bounds)\n",
    "mask2 = cv2.inRange(hsv, lower_hsv2, upper_hsv2)\n",
    "# print(mask)\n",
    "# Get a \"masked image\"\n",
    "masked = cv2.bitwise_and(image, image, mask=mask2)\n",
    "plt.imshow(masked);"
   ]
  },
  {
   "cell_type": "code",
   "execution_count": 40,
   "id": "aee448ee",
   "metadata": {
    "scrolled": true
   },
   "outputs": [
    {
     "data": {
      "image/png": "[encoded data removed]",
      "text/plain": [
       "<Figure size 640x480 with 1 Axes>"
      ]
     },
     "metadata": {},
     "output_type": "display_data"
    }
   ],
   "source": [
    "result_img = '../../assets/samples/result.jpg'\n",
    "result = dcu.rgb_from_jpg_fn(result_img)\n",
    "plt.imshow(result);"
   ]
  },
  {
   "cell_type": "markdown",
   "id": "4cf5e3cd",
   "metadata": {},
   "source": [
    "Now go on to the [third notebook](../03-Braitenberg/braitenberg03.ipynb).\n"
   ]
  }
 ],
 "metadata": {
  "kernelspec": {
   "display_name": "Python 3.8.10 64-bit",
   "language": "python",
   "name": "python3"
  },
  "language_info": {
   "codemirror_mode": {
    "name": "ipython",
    "version": 3
   },
   "file_extension": ".py",
   "mimetype": "text/x-python",
   "name": "python",
   "nbconvert_exporter": "python",
   "pygments_lexer": "ipython3",
   "version": "3.8.10"
  },
  "vscode": {
   "interpreter": {
    "hash": "916dbcbb3f70747c44a77c7bcd40155683ae19c65e1c03b4aa3499c5328201f1"
   }
  }
 },
 "nbformat": 4,
 "nbformat_minor": 5
}
